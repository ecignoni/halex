{
 "cells": [
  {
   "cell_type": "code",
   "execution_count": null,
   "id": "caa2e1d8-4cd8-48ff-94d8-0cede6c3e73f",
   "metadata": {
    "tags": []
   },
   "outputs": [],
   "source": [
    "%load_ext autoreload\n",
    "%autoreload 2"
   ]
  },
  {
   "cell_type": "code",
   "execution_count": null,
   "id": "7051b8bb-dbbe-4440-9c45-32f9acefb344",
   "metadata": {
    "tags": []
   },
   "outputs": [],
   "source": [
    "from __future__ import annotations\n",
    "from typing import Tuple, List, Dict\n",
    "\n",
    "import os\n",
    "import gc\n",
    "from collections import namedtuple\n",
    "\n",
    "import numpy as np\n",
    "\n",
    "# non so perche devo importare cdist da scipy prima di halex e non lo voglio sapere\n",
    "# se non lo faccio, su newtimes ****** non funziona\n",
    "# in qualunque altro posto si\n",
    "from scipy.spatial.distance import cdist\n",
    "\n",
    "import torch\n",
    "import metatensor\n",
    "\n",
    "from halex.utils import tensormap_as_torch, shift_structure_by_n, drop_target_samples\n",
    "from halex.rotations import ClebschGordanReal\n",
    "from halex.hamiltonian import (\n",
    "    compute_ham_features,\n",
    "    drop_unused_features,\n",
    ")\n",
    "from halex.decomposition import EquivariantPCA\n",
    "from halex.dataset import SCFData, BatchedMemoryDataset\n",
    "from halex.models import RidgeOnEnergiesAndLowdinMultipleMolecules\n",
    "\n",
    "from halex.train_utils import load_molecule_scf_datasets, compute_features, load_batched_dataset, coupled_fock_matrix_from_multiple_molecules\n",
    "\n",
    "torch.set_default_dtype(torch.float64)\n",
    "\n",
    "import matplotlib.pyplot as plt\n",
    "%matplotlib inline\n",
    "plt.style.use('default')"
   ]
  },
  {
   "cell_type": "code",
   "execution_count": null,
   "id": "ffac6f52-4e69-4c28-8218-cf6c1fee84ad",
   "metadata": {
    "tags": []
   },
   "outputs": [],
   "source": [
    "ROOT_DIR = \"/Users/divya/scratch/halex/\""
   ]
  },
  {
   "cell_type": "code",
   "execution_count": null,
   "id": "2c5aab7e-7861-46d1-ab7c-ca90fd9c03d7",
   "metadata": {
    "tags": []
   },
   "outputs": [],
   "source": [
    "def load_molecule_datasets(mol: str, cg: ClebschGordanReal, indices: np.ndarray):\n",
    "    \"\"\"\n",
    "    Load the SCFData objects storing data for a single molecule,\n",
    "    in both a small basis and a big basis\n",
    "    \"\"\"\n",
    "    coords_path = os.path.join(\n",
    "        ROOT_DIR, f\"CH-dataset/{mol}/coords_{mol}_1000.xyz\"\n",
    "    )\n",
    "    small_basis_path = os.path.join(\n",
    "        ROOT_DIR, f\"CH-dataset/{mol}/b3lyp_STO-3G/\"\n",
    "    )\n",
    "    big_basis_path = os.path.join(\n",
    "        ROOT_DIR,\n",
    "        f\"CH-dataset/{mol}/b3lyp_def2tzvp/\",\n",
    "    )\n",
    "\n",
    "    sb_data, bb_data = load_molecule_scf_datasets(\n",
    "        coords_path=coords_path,\n",
    "        small_basis_path=small_basis_path,\n",
    "        big_basis_path=big_basis_path,\n",
    "        cg=cg,\n",
    "        train_indices=indices,\n",
    "    )\n",
    "\n",
    "    return sb_data, bb_data"
   ]
  },
  {
   "cell_type": "code",
   "execution_count": null,
   "id": "0487b34d-0abd-4625-8842-a4f325acd3b2",
   "metadata": {
    "tags": []
   },
   "outputs": [],
   "source": [
    "def dataset_for_a_single_molecule(scf_datasets, nelec_dict):\n",
    "    small_basis, big_basis = scf_datasets\n",
    "\n",
    "    frames = small_basis.frames\n",
    "    # truncate the big basis MO energies to the first n_small\n",
    "    mo_energy = big_basis.mo_energy[:, : small_basis.mo_energy.shape[1]]\n",
    "    # no need to truncate here as they refer to _occupied_ MOs\n",
    "    lowdin_charges = big_basis.lowdin_charges\n",
    "    lowdin_charges_bymo = big_basis.lowdin_charges_byMO\n",
    "    # orbitals in the small basis (because we predict a small basis Fock)\n",
    "    orbs = small_basis.orbs\n",
    "    # ao labels in the small basis\n",
    "    ao_labels = small_basis.ao_labels\n",
    "    # baseline fock\n",
    "    baseline_focks = small_basis.focks_orth\n",
    "    \n",
    "    dataset = namedtuple(\n",
    "        'Dataset',\n",
    "        field_names='frames mo_energy lowdin_charges lowdin_charges_bymo orbs ao_labels nelec_dict baseline_focks'.split(),\n",
    "        defaults=[frames, mo_energy, lowdin_charges, lowdin_charges_bymo, orbs, ao_labels, nelec_dict, baseline_focks],\n",
    "    )()\n",
    "    \n",
    "    return dataset"
   ]
  },
  {
   "cell_type": "code",
   "execution_count": null,
   "id": "80ef3aa4-6fbe-4f42-a133-6ca122ef8d84",
   "metadata": {
    "tags": []
   },
   "outputs": [],
   "source": [
    "cg = ClebschGordanReal(4)"
   ]
  },
  {
   "cell_type": "code",
   "execution_count": null,
   "id": "35dfc3b7-b5f7-4dc9-9f9a-7567e23f3df1",
   "metadata": {
    "tags": []
   },
   "outputs": [],
   "source": [
    "molecules = [\n",
    "    \"ethane\",\n",
    "    \"ethene\",\n",
    "    # \"butadiene\",\n",
    "    # \"hexane\",\n",
    "    # \"hexatriene\",\n",
    "    # \"isoprene\",\n",
    "    # \"styrene\",\n",
    "]"
   ]
  },
  {
   "cell_type": "code",
   "execution_count": null,
   "id": "cb619727-ebf1-49c8-bc66-8f2d7d31ae7f",
   "metadata": {
    "tags": []
   },
   "outputs": [],
   "source": [
    "train_indices = np.load('train_output/train_indices.npy')\n",
    "all_indices = np.arange(1000)\n",
    "test_indices = np.setdiff1d(all_indices, train_indices)[:100] #[:40]\n",
    "train_indices = train_indices[:1] # only one as we don't need them now"
   ]
  },
  {
   "cell_type": "code",
   "execution_count": null,
   "id": "a115a257-7d95-464d-bf8e-89a19c51064a",
   "metadata": {
    "tags": []
   },
   "outputs": [],
   "source": [
    "# Get datasets in small and big basis\n",
    "train_datasets = {\n",
    "    mol: load_molecule_datasets(mol, cg=cg, indices=train_indices) # only one frame, used just to instantiate the model\n",
    "    for mol in molecules\n",
    "}\n",
    "\n",
    "test_datasets = {\n",
    "    mol: load_molecule_datasets(mol, cg=cg, indices=test_indices)\n",
    "    for mol in molecules\n",
    "}"
   ]
  },
  {
   "cell_type": "code",
   "execution_count": null,
   "id": "bc495308-34ec-43af-8b24-e14bd6f05002",
   "metadata": {
    "tags": []
   },
   "outputs": [],
   "source": [
    "# ==================================================================\n",
    "# Compute the Features\n",
    "# ==================================================================\n",
    "\n",
    "# compute features\n",
    "rascal_hypers = {\n",
    "    \"interaction_cutoff\": 3.5,\n",
    "    \"cutoff_smooth_width\": 0.5,\n",
    "    \"max_radial\": 6,\n",
    "    \"max_angular\": 4,\n",
    "    \"gaussian_sigma_constant\": 0.2,\n",
    "    \"gaussian_sigma_type\": \"Constant\",\n",
    "    \"compute_gradients\": False,\n",
    "}\n",
    "\n",
    "epca = EquivariantPCA(n_components=200).load(\"train_output/epca.npz\")\n",
    "\n",
    "train_feats = compute_features(train_datasets, rascal_hypers=rascal_hypers, cg=cg, lcut=2, epca=epca)\n",
    "\n",
    "test_feats = compute_features(test_datasets, rascal_hypers=rascal_hypers, cg=cg, lcut=2, epca=epca)\n",
    "\n",
    "gc.collect()"
   ]
  },
  {
   "cell_type": "code",
   "execution_count": null,
   "id": "17e8d38b-c568-49dc-a530-e8ab20839036",
   "metadata": {
    "tags": []
   },
   "outputs": [],
   "source": [
    "nelec_dict = {\"H\": 1.0, \"C\": 6.0}\n",
    "\n",
    "train_targ_coupled = coupled_fock_matrix_from_multiple_molecules(train_datasets.values())"
   ]
  },
  {
   "cell_type": "code",
   "execution_count": null,
   "id": "7e662dbe-7f2c-49cb-b3e3-a438f53a9d38",
   "metadata": {
    "tags": []
   },
   "outputs": [],
   "source": [
    "tr_datasets = {\n",
    "    mol: dataset_for_a_single_molecule(train_datasets[mol], nelec_dict)\n",
    "    for i, mol in enumerate(molecules)\n",
    "}\n",
    "\n",
    "te_datasets = {\n",
    "    mol: dataset_for_a_single_molecule(test_datasets[mol], nelec_dict)\n",
    "    for i, mol in enumerate(molecules)\n",
    "}"
   ]
  },
  {
   "cell_type": "code",
   "execution_count": null,
   "id": "c9dadad7-a95a-4545-9a77-b74a29cc5085",
   "metadata": {
    "tags": []
   },
   "outputs": [],
   "source": [
    "model = RidgeOnEnergiesAndLowdinMultipleMolecules(\n",
    "    coupled_tmap=train_targ_coupled,\n",
    "    features=metatensor.join(train_feats, axis='samples'),\n",
    "    alpha=1e-16,\n",
    "    bias=False,\n",
    ")\n",
    "\n",
    "path = os.path.join(\n",
    "    \"train_output/model_state_dict.pth\",\n",
    ")\n",
    "\n",
    "model.load_state_dict(\n",
    "    torch.load(path)\n",
    ")"
   ]
  },
  {
   "cell_type": "code",
   "execution_count": null,
   "id": "266f598d-0642-42ff-ad8d-a75db7538f4d",
   "metadata": {
    "tags": []
   },
   "outputs": [],
   "source": [
    "from halex.hamiltonian import blocks_to_dense, decouple_blocks\n",
    "from halex.popan import (\n",
    "    batched_orthogonal_lowdin_population,\n",
    "    batched_orthogonal_lowdinbyMO_population,\n",
    ")"
   ]
  },
  {
   "cell_type": "code",
   "execution_count": null,
   "id": "fd9ee133-976c-4591-895c-d6b9bc2b181b",
   "metadata": {
    "tags": []
   },
   "outputs": [],
   "source": [
    "history = np.load(\"train_output/history.npz\")\n",
    "\n",
    "fig, axes = plt.subplots(1, 2, figsize=(6 * 2, 4), dpi=120)\n",
    "\n",
    "ax = axes[0]\n",
    "kind = 'train'\n",
    "c = 'C0'\n",
    "ax.loglog(history[f'{kind}_total'], label=f'({kind}) Total', c=c)\n",
    "ax.loglog(history[f'{kind}_eig_loss'] * 1.51e6, label=f'({kind}) MO energy', c=c, ls='--')\n",
    "ax.loglog(history[f'{kind}_low_loss'] * 1e6, label=f'({kind}) Lowdin charges', c=c, ls=':')\n",
    "ax.loglog(history[f'{kind}_reg_loss'] * 1e6, label=f'({kind}) Regularization term', c='gray')\n",
    "ax.legend()\n",
    "\n",
    "\n",
    "# kind = 'valid'\n",
    "# c='C1'\n",
    "# ax.loglog(history[f'{kind}_total'], label=f'({kind}) Total', c=c)\n",
    "# ax.loglog(history[f'{kind}_eig_loss'] * 1.51e6, label=f'({kind}) MO energy', c=c, ls='--')\n",
    "# ax.loglog(history[f'{kind}_low_loss'] * 1e6, label=f'({kind}) Lowdin charges', c=c, ls=':')\n",
    "# ax.legend()\n",
    "\n",
    "ax = axes[1]\n",
    "kind = 'train'\n",
    "c = 'C0'\n",
    "ax.loglog(history[f'{kind}_total'], label=f'({kind}) Total', c=c)\n",
    "ax.loglog(history[f'{kind}_eig_loss'] * 1.51e6, label=f'({kind}) MO energy', c=c, ls='--')\n",
    "ax.loglog(history[f'{kind}_low_loss'] * 1e6, label=f'({kind}) Lowdin charges', c=c, ls=':')\n",
    "ax.loglog(history[f'{kind}_reg_loss'] * 1e6, label=f'({kind}) Regularization term', c='gray')\n",
    "ax.legend()\n",
    "\n",
    "\n",
    "# kind = 'valid'\n",
    "# c='C1'\n",
    "# ax.loglog(history[f'{kind}_total'], label=f'({kind}) Total', c=c)\n",
    "# ax.loglog(history[f'{kind}_eig_loss'] * 1.51e6, label=f'({kind}) MO energy', c=c, ls='--')\n",
    "# ax.loglog(history[f'{kind}_low_loss'] * 1e6, label=f'({kind}) Lowdin charges', c=c, ls=':')\n",
    "# ax.legend()\n",
    "# ax.set_xlim(100,)\n",
    "# ax.set_ylim(1e0, 1e4)\n",
    "\n",
    "fig.tight_layout()"
   ]
  },
  {
   "cell_type": "code",
   "execution_count": null,
   "id": "951daf77-3772-4265-aa89-af0dcc479da8",
   "metadata": {
    "tags": []
   },
   "outputs": [],
   "source": [
    "def predict(model, dataset, features, core_features=None):\n",
    "    \n",
    "    frames = dataset.frames\n",
    "    orbs = dataset.orbs\n",
    "    nelec_dict = dataset.nelec_dict\n",
    "    ao_labels = dataset.ao_labels\n",
    "    \n",
    "    focks_orth = blocks_to_dense(decouple_blocks(model(features, core_features), cg), frames, orbs, vectorized=True)\n",
    "    # focks_orth = dataset.baseline_focks + delta_focks_orth\n",
    "    mo_energy, mo_coeff_orth = torch.linalg.eigh(focks_orth)\n",
    "    lowdin_charges, _ = batched_orthogonal_lowdin_population(focks_orth, nelec_dict, ao_labels)\n",
    "    lowdin_charges_bymo, _ = batched_orthogonal_lowdinbyMO_population(focks_orth, nelec_dict, ao_labels)\n",
    "    \n",
    "    prediction = namedtuple(\n",
    "        'Prediction',\n",
    "        field_names='focks_orth mo_energy mo_coeff_orth lowdin_charges lowdin_charges_bymo'.split(),\n",
    "        defaults=[focks_orth, mo_energy, mo_coeff_orth, lowdin_charges, lowdin_charges_bymo],\n",
    "    )()\n",
    "    \n",
    "    return prediction"
   ]
  },
  {
   "cell_type": "code",
   "execution_count": null,
   "id": "fdd26eec-6dac-4e2d-8c3e-cf23fb594398",
   "metadata": {
    "tags": []
   },
   "outputs": [],
   "source": [
    "pred_train = {\n",
    "    mol: predict(model, tr_datasets[mol], train_feats[i])\n",
    "    for i, mol in enumerate(tr_datasets.keys())\n",
    "}"
   ]
  },
  {
   "cell_type": "code",
   "execution_count": null,
   "id": "607d9fbf-8a55-46fa-ac7a-c6e28977c9ac",
   "metadata": {
    "tags": []
   },
   "outputs": [],
   "source": [
    "pred_test = {\n",
    "    mol: predict(model, te_datasets[mol], test_feats[i])\n",
    "    for i, mol in enumerate(te_datasets.keys())\n",
    "}"
   ]
  },
  {
   "cell_type": "code",
   "execution_count": null,
   "id": "9f36413e-63d7-48ec-9228-c2aff729d6b3",
   "metadata": {
    "tags": []
   },
   "outputs": [],
   "source": [
    "from ase.units import Hartree\n",
    "from sklearn.metrics import mean_absolute_error, mean_squared_error\n",
    "\n",
    "from halex.pyplot import set_equalaxes"
   ]
  },
  {
   "cell_type": "code",
   "execution_count": null,
   "id": "e18ca62b-eb78-40df-bef1-85f066664591",
   "metadata": {
    "tags": []
   },
   "outputs": [],
   "source": [
    "for mol in pred_test.keys():\n",
    "    fig, axes = plt.subplots(1, 3, figsize=(4 * 3, 3.7), dpi=120)\n",
    "    \n",
    "    ax = axes[0]\n",
    "    ax.plot([0, 1], [0, 1], ls='dashed', transform=ax.transAxes, c='k', zorder=-99, lw=.5)\n",
    "    x = pred_test[mol].mo_energy.detach().numpy().reshape(-1) * Hartree\n",
    "    y = te_datasets[mol].mo_energy.detach().numpy().reshape(-1) * Hartree\n",
    "    mae = mean_absolute_error(x, y) * 1e3\n",
    "    rmse = mean_squared_error(x, y) ** 0.5 * 1e3\n",
    "    ax.scatter(x, y, s=5)\n",
    "    ax.text(0.05, 0.95, r'MAE$_{\\rm all}$' + f'= {mae:.2f} meV\\n' + r'RMSE$_{\\rm all}$' + f'= {rmse:.2f} meV', ha='left', va='top', transform=ax.transAxes)\n",
    "    ax.set_title(f'{mol} (test frames, all MO)')\n",
    "    ax.set_xlabel('Prediction (eV)')\n",
    "    ax.set_ylabel('Taget (eV)')\n",
    "    set_equalaxes(ax)\n",
    "    \n",
    "    ax = axes[1]\n",
    "    ax.plot([0, 1], [0, 1], ls='dashed', transform=ax.transAxes, c='k', zorder=-99, lw=.5)\n",
    "    x = pred_test[mol].mo_energy.detach().numpy().reshape(-1) * Hartree\n",
    "    y = te_datasets[mol].mo_energy.detach().numpy().reshape(-1) * Hartree\n",
    "    x = x[x>-50]\n",
    "    y = y[y>-50]\n",
    "    mae = mean_absolute_error(x, y) * 1e3\n",
    "    rmse = mean_squared_error(x, y) ** 0.5 * 1e3\n",
    "    ax.scatter(x, y, s=5)\n",
    "    ax.text(0.05, 0.95, r'MAE$_{\\rm valence}$' + f'= {mae:.2f} meV\\n' + r'RMSE$_{\\rm valence}$' + f'= {rmse:.2f} meV', ha='left', va='top', transform=ax.transAxes)\n",
    "    ax.set_title(f'{mol} (test frames, valence MO)')\n",
    "    ax.set_xlabel('Prediction (eV)')\n",
    "    ax.set_ylabel('Taget (eV)')\n",
    "    set_equalaxes(ax)\n",
    "    \n",
    "    ax = axes[2]\n",
    "    ax.plot([0, 1], [0, 1], ls='dashed', transform=ax.transAxes, c='k', zorder=-99, lw=.5)\n",
    "    x = pred_test[mol].mo_energy.detach().numpy().reshape(-1) * Hartree\n",
    "    y = te_datasets[mol].mo_energy.detach().numpy().reshape(-1) * Hartree\n",
    "    x = x[x<-50]\n",
    "    y = y[y<-50]\n",
    "    mae = mean_absolute_error(x, y) * 1e3\n",
    "    rmse = mean_squared_error(x, y) ** 0.5 * 1e3\n",
    "    ax.scatter(x, y, s=5)\n",
    "    ax.text(0.05, 0.95, r'MAE$_{\\rm core}$' + f'= {mae:.2f} meV\\n' + r'RMSE$_{\\rm core}$' + f'= {rmse:.2f} meV', ha='left', va='top', transform=ax.transAxes)\n",
    "    ax.set_title(f'{mol} (test frames, core MO)')\n",
    "    ax.set_xlabel('Prediction (eV)')\n",
    "    ax.set_ylabel('Taget (eV)')\n",
    "    set_equalaxes(ax)\n",
    "   \n",
    "    fig.tight_layout()"
   ]
  },
  {
   "cell_type": "code",
   "execution_count": null,
   "id": "d5a8cdb4-7db6-4a7c-969c-28f6bc0c96bb",
   "metadata": {},
   "outputs": [],
   "source": [
    "fig, axes = plt.subplots(1, 2, figsize=(4*4, 4*2), dpi=150)\n",
    "\n",
    "for ax, mol in zip(axes.flat, pred_test.keys()):\n",
    "    ax.grid(lw=.33)\n",
    "    ax.plot([0, 1], [0, 1], ls='dashed', transform=ax.transAxes, c='k', zorder=-99, lw=.5)\n",
    "    x = pred_test[mol].mo_energy.detach().numpy().reshape(-1) * Hartree\n",
    "    y = te_datasets[mol].mo_energy.detach().numpy().reshape(-1) * Hartree\n",
    "    x = x[x>-50]\n",
    "    y = y[y>-50]\n",
    "    mae = mean_absolute_error(x, y) * 1e3\n",
    "    rmse = mean_squared_error(x, y) ** 0.5 * 1e3\n",
    "    ax.scatter(x, y, s=13)\n",
    "    ax.text(0.05, 0.95, r'MAE$_{\\rm valence}$' + f'= {mae:.2f} meV\\n' + r'RMSE$_{\\rm valence}$' + f'= {rmse:.2f} meV', ha='left', va='top', transform=ax.transAxes)\n",
    "    ax.set_title(f'{mol.capitalize()} (test frames, valence MO)')\n",
    "    ax.set_xlabel('Prediction (eV)')\n",
    "    ax.set_ylabel('Taget (eV)')\n",
    "    set_equalaxes(ax)\n",
    "    \n",
    "#axes[-1][-1].axis('off')\n",
    "\n",
    "fig.tight_layout()"
   ]
  },
  {
   "cell_type": "markdown",
   "id": "672b7c5e-828a-4adf-bdae-ab5702132c91",
   "metadata": {},
   "source": [
    "# Lowdin charges"
   ]
  },
  {
   "cell_type": "code",
   "execution_count": null,
   "id": "5cfb149d-b70e-4414-abf7-f54c54df3710",
   "metadata": {
    "tags": []
   },
   "outputs": [],
   "source": [
    "for mol in pred_test.keys():\n",
    "    fig, ax = plt.subplots(1, 1, figsize=(4 * 1, 3.7), dpi=120)\n",
    "    \n",
    "    ax.plot([0, 1], [0, 1], ls='dashed', transform=ax.transAxes, c='k', zorder=-99, lw=.5)\n",
    "    x = pred_test[mol].lowdin_charges.detach().numpy().reshape(-1)\n",
    "    y = te_datasets[mol].lowdin_charges.detach().numpy().reshape(-1)\n",
    "    mae = mean_absolute_error(x, y)\n",
    "    rmse = mean_squared_error(x, y) ** 0.5 \n",
    "    ax.scatter(x, y, s=5)\n",
    "    ax.text(0.05, 0.95, r'MAE$_{\\rm all}$' + f'= {mae:.2f} A.U.\\n' + r'RMSE$_{\\rm all}$' + f'= {rmse:.2f} A.U.', ha='left', va='top', transform=ax.transAxes)\n",
    "    ax.set_title(f'{mol} (test frames, all MO)')\n",
    "    ax.set_xlabel('Prediction (A.U.)')\n",
    "    ax.set_ylabel('Taget (A.U.)')\n",
    "    set_equalaxes(ax)\n",
    "   \n",
    "    fig.tight_layout()"
   ]
  },
  {
   "cell_type": "markdown",
   "id": "964f8423-c997-4490-893b-7ccb92296a8e",
   "metadata": {},
   "source": [
    "# sTDA excitation energies"
   ]
  },
  {
   "cell_type": "code",
   "execution_count": null,
   "id": "f8addf67-5c29-4228-8452-8683a51cf1bd",
   "metadata": {
    "tags": []
   },
   "outputs": [],
   "source": [
    "import warnings\n",
    "\n",
    "from stda_torch.stda import sTDA\n",
    "from tqdm import tqdm"
   ]
  },
  {
   "cell_type": "code",
   "execution_count": null,
   "id": "36b47731-e1e4-4185-90ae-9e74de513dcd",
   "metadata": {
    "tags": []
   },
   "outputs": [],
   "source": [
    "def compute_excitations_with_stda(scf_data, mo_energy, mo_coeff_orth):\n",
    "    with warnings.catch_warnings():\n",
    "        warnings.simplefilter(\"ignore\")\n",
    "\n",
    "        excen = torch.stack([\n",
    "            sTDA(\n",
    "                mo_energy=_mo_energy,\n",
    "                mo_coeff=_mo_coeff_orth,\n",
    "                mo_occ=scf_data.mo_occ,\n",
    "                ovlp=None,\n",
    "                natm=scf_data.natm,\n",
    "                ao_labels=scf_data.ao_labels,\n",
    "                coords=torch.from_numpy(_frame.positions),\n",
    "                atom_pure_symbols=scf_data.atom_pure_symbols,\n",
    "                ax=0.2,\n",
    "                alpha=None,\n",
    "                beta=None,\n",
    "                e_max=20.0,\n",
    "                tp=1e-4,\n",
    "                mo_orth=True,\n",
    "                verbose=False,\n",
    "                logfile=None,\n",
    "            ).kernel()\n",
    "            for _mo_energy, _mo_coeff_orth, _frame\n",
    "            in tqdm(zip(\n",
    "                mo_energy,\n",
    "                mo_coeff_orth,\n",
    "                scf_data.frames,\n",
    "            ))\n",
    "        ])\n",
    "    \n",
    "    return excen"
   ]
  },
  {
   "cell_type": "code",
   "execution_count": null,
   "id": "987a0b51-46f8-4512-8ab5-1367857c50d7",
   "metadata": {
    "tags": []
   },
   "outputs": [],
   "source": [
    "excens = {}\n",
    "for mol, (data_sb, data_bb) in test_datasets.items():\n",
    "    excens_target = compute_excitations_with_stda(data_bb, data_bb.mo_energy, data_bb.mo_coeff_orth)\n",
    "    excens_predicted = compute_excitations_with_stda(data_sb, pred_test[mol].mo_energy, pred_test[mol].mo_coeff_orth)\n",
    "    excens[mol] = (excens_predicted, excens_target)"
   ]
  },
  {
   "cell_type": "code",
   "execution_count": null,
   "id": "b90a2660-7ab2-49a0-af10-a06cbbcd2028",
   "metadata": {
    "tags": []
   },
   "outputs": [],
   "source": [
    "for mol, (pred, targ) in excens.items():\n",
    "    \n",
    "    fig, axes = plt.subplots(1, 3, figsize=(4*3, 4), dpi=120)\n",
    "    fig.suptitle(f'{mol} (test frames)')\n",
    "    \n",
    "    for i, ax in enumerate(axes):\n",
    "        ax.grid(lw=.1)\n",
    "        ax.plot([0, 1], [0, 1], transform=ax.transAxes, ls='dashed', c='k')\n",
    "        ax.set_xlabel('Predicted (eV)')\n",
    "        ax.set_ylabel('Target (eV)')\n",
    "        x = pred[:, i].detach().numpy() * Hartree\n",
    "        y = targ[:, i].detach().numpy() * Hartree\n",
    "        mae = mean_absolute_error(x, y)\n",
    "        ax.scatter(x, y)\n",
    "        ax.set_title(f'S{i+1}')\n",
    "        ax.text(0.05, 0.95, f'MAE = {mae*1e3:.3f} (meV)', transform=ax.transAxes, ha='left', va='top')\n",
    "        \n",
    "    set_equalaxes(axes)\n",
    "    \n",
    "    fig.tight_layout()"
   ]
  },
  {
   "cell_type": "code",
   "execution_count": null,
   "id": "4a0855ac",
   "metadata": {},
   "outputs": [],
   "source": [
    "fig, axes = plt.subplots(2, 4, figsize=(4*4, 4*2), dpi=120)\n",
    "\n",
    "for ax, (mol, (pred, targ)) in zip(axes.flat, excens.items()):\n",
    "    ax.grid(lw=.33)\n",
    "    ax.set_title(f'{mol.capitalize()} (test frames)')\n",
    "\n",
    "    ax.plot([0, 1], [0, 1], transform=ax.transAxes, ls='dashed', c='k')\n",
    "    ax.set_xlabel('Predicted (eV)')\n",
    "    ax.set_ylabel('Target (eV)')\n",
    "    errstr = ''\n",
    "    for i in range(2):\n",
    "        x = pred[:, i].detach().numpy() * Hartree\n",
    "        y = targ[:, i].detach().numpy() * Hartree\n",
    "        mae = mean_absolute_error(x, y)\n",
    "        ax.scatter(x, y, label=f'S{i+1}')\n",
    "        errstr += f'MAE S{i+1} = {mae*1e3:.3f} (meV)\\n'\n",
    "    ax.text(0.05, 0.95, errstr, transform=ax.transAxes, ha='left', va='top')\n",
    "    set_equalaxes(ax)\n",
    "    ax.legend(loc='lower right')\n",
    "\n",
    "axes[-1][-1].axis('off')\n",
    "fig.tight_layout()\n",
    "\n",
    "fig.savefig('images/excens.png', dpi=200, bbox_inches='tight')"
   ]
  },
  {
   "cell_type": "raw",
   "id": "929f3463-8680-45f7-8e69-bc9d379881ea",
   "metadata": {
    "tags": []
   },
   "source": [
    "train_excens = {}\n",
    "for mol, (data_sb, data_bb) in train_datasets.items():\n",
    "    excens_target = compute_excitations_with_stda(data_bb, data_bb.mo_energy, data_bb.mo_coeff_orth)\n",
    "    excens_predicted = compute_excitations_with_stda(data_sb, pred_train[mol].mo_energy, pred_train[mol].mo_coeff_orth)\n",
    "    train_excens[mol] = (excens_predicted, excens_target)"
   ]
  },
  {
   "cell_type": "raw",
   "id": "73d94321-2171-4ab8-9e72-5800cfd6dfb0",
   "metadata": {
    "tags": []
   },
   "source": [
    "for mol, (pred, targ) in train_excens.items():\n",
    "    \n",
    "    fig, axes = plt.subplots(1, 3, figsize=(4*3, 4), dpi=120)\n",
    "    fig.suptitle(f'{mol} (train frames)')\n",
    "    \n",
    "    for i, ax in enumerate(axes):\n",
    "        ax.grid(lw=.1)\n",
    "        ax.plot([0, 1], [0, 1], transform=ax.transAxes, ls='dashed', c='k')\n",
    "        ax.set_xlabel('Predicted (eV)')\n",
    "        ax.set_ylabel('Target (eV)')\n",
    "        x = pred[:, i].detach().numpy() * Hartree\n",
    "        y = targ[:, i].detach().numpy() * Hartree\n",
    "        mae = mean_absolute_error(x, y)\n",
    "        ax.scatter(x, y)\n",
    "        ax.set_title(f'S{i+1}')\n",
    "        ax.text(0.05, 0.95, f'MAE = {mae*1e3:.3f} (meV)', transform=ax.transAxes, ha='left', va='top')\n",
    "        \n",
    "    set_equalaxes(axes)\n",
    "    \n",
    "    fig.tight_layout()"
   ]
  },
  {
   "cell_type": "markdown",
   "id": "11c0415c-ece3-422a-866f-009add55ce6d",
   "metadata": {},
   "source": [
    "# HOMO - LUMO gap"
   ]
  },
  {
   "cell_type": "code",
   "execution_count": null,
   "id": "98efbb13-1386-44a7-80f2-585dde784e69",
   "metadata": {
    "tags": []
   },
   "outputs": [],
   "source": [
    "fig, ax = plt.subplots(1, 1, figsize=(4, 4), dpi=150)\n",
    "\n",
    "ax.grid(lw=.33)\n",
    "\n",
    "ax.plot([0, 1], [0, 1], transform=ax.transAxes, c='k', ls='dashed')\n",
    "\n",
    "errstr = ''\n",
    "\n",
    "for i, mol in enumerate('ethene butadiene esatriene'.split()):\n",
    "    \n",
    "    homo = sum(train_datasets[mol][0].mo_occ == 2) - 1\n",
    "    x = (pred_train[mol].mo_energy[:, homo+1] - pred_train[mol].mo_energy[:, homo]).detach().numpy().copy() * Hartree\n",
    "    y = (train_datasets[mol][1].mo_energy[:, homo+1] - train_datasets[mol][1].mo_energy[:, homo]).detach().numpy().copy() * Hartree\n",
    "    mse = np.mean(y - x) * 1e3 # meV\n",
    "    \n",
    "    ax.scatter(x, y, label=mol.capitalize(), ec='k', lw=.5)\n",
    "    errstr += f'MSE({mol}) = {mse:.1f} (meV)\\n'\n",
    "    \n",
    "ax.text(0.05, 0.95, errstr, transform=ax.transAxes, ha='left', va='top')\n",
    "\n",
    "set_equalaxes(ax)\n",
    "ax.set_ylabel('Target (eV)')\n",
    "ax.set_xlabel('Predicted (eV)')\n",
    "ax.set_title('HOMO - LUMO gap (train frames)')\n",
    "ax.legend(loc='lower right')\n",
    "\n",
    "fig.tight_layout()"
   ]
  },
  {
   "cell_type": "code",
   "execution_count": null,
   "id": "fa1723ae-d6a9-4daa-9d0a-d5a6becd7155",
   "metadata": {
    "tags": []
   },
   "outputs": [],
   "source": [
    "def bla(atoms, indices_db, indices_sb):\n",
    "    values = []\n",
    "    for atom in atoms:\n",
    "        lengths_db = np.mean(np.sum(np.diff(atom.positions[indices_db], axis=1)[:, 0]**2, axis=-1)**0.5)\n",
    "        lengths_sb = np.mean(np.sum(np.diff(atom.positions[indices_sb], axis=1)[:, 0]**2, axis=-1)**0.5)\n",
    "        values.append(lengths_sb - lengths_db)\n",
    "    return np.array(values)"
   ]
  },
  {
   "cell_type": "code",
   "execution_count": null,
   "id": "c1b2dd6d-ecbe-452e-95f1-297e3a5f2a0b",
   "metadata": {
    "tags": []
   },
   "outputs": [],
   "source": [
    "test_datasets['butadiene'][0].frames[0].numbers\n",
    "\n",
    "bond_indices = {}\n",
    "bond_indices['butadiene'] = (\n",
    "    np.array([[0, 1], [2, 3]]), # db\n",
    "    np.array([[1, 2]]), # sb\n",
    ")\n",
    "\n",
    "bond_indices['esatriene'] = (\n",
    "    np.array([[0, 1], [2, 3], [4, 5]]), # db\n",
    "    np.array([[1, 2], [3, 4]]) # sb\n",
    ")\n",
    "\n",
    "blas_test = {}\n",
    "blas_train = {}\n",
    "for mol in 'butadiene esatriene'.split():\n",
    "    blas_test[mol] = bla(test_datasets[mol][0].frames, bond_indices[mol][0], bond_indices[mol][1])\n",
    "    blas_train[mol] = bla(train_datasets[mol][0].frames, bond_indices[mol][0], bond_indices[mol][1])"
   ]
  },
  {
   "cell_type": "code",
   "execution_count": null,
   "id": "f6ab9a91-346e-407b-a784-9790e128f025",
   "metadata": {
    "tags": []
   },
   "outputs": [],
   "source": [
    "import pandas as pd\n",
    "import seaborn as sns"
   ]
  },
  {
   "cell_type": "code",
   "execution_count": null,
   "id": "077ed294-6b47-411e-af16-22cc067dc668",
   "metadata": {
    "tags": []
   },
   "outputs": [],
   "source": [
    "fig, ax = plt.subplots(1, 1, figsize=(4, 4), dpi=150)\n",
    "\n",
    "ax.grid(lw=.33)\n",
    "\n",
    "# ax.plot([0, 1], [0, 1], transform=ax.transAxes, c='k', ls='dashed')\n",
    "\n",
    "# errstr = ''\n",
    "\n",
    "for i, mol in enumerate('butadiene esatriene'.split()):\n",
    "    \n",
    "    homo = sum(train_datasets[mol][0].mo_occ == 2) - 1\n",
    "    x = (pred_train[mol].mo_energy[:, homo+1] - pred_train[mol].mo_energy[:, homo]).detach().numpy().copy() * Hartree\n",
    "    y = (train_datasets[mol][1].mo_energy[:, homo+1] - train_datasets[mol][1].mo_energy[:, homo]).detach().numpy().copy() * Hartree\n",
    "    # mse = np.mean(y - x) * 1e3 # meV\n",
    "    df = pd.DataFrame(np.column_stack([blas_train[mol], x-y]), columns='x y'.split())\n",
    "    sns.regplot(data=df, x='x', y='y', ax=ax, line_kws=dict(lw=1))\n",
    "    ax.scatter(blas_train[mol], x-y, label=mol.capitalize(), ec='k', lw=.5)\n",
    "    # errstr += f'MSE({mol}) = {mse:.1f} (meV)\\n'\n",
    "    \n",
    "# ax.text(0.05, 0.95, errstr, transform=ax.transAxes, ha='left', va='top')\n",
    "\n",
    "# set_equalaxes(ax)\n",
    "ax.set_ylabel('HOMO-LUMO Red Shift (eV)')\n",
    "ax.set_xlabel('BLA $\\AA$')\n",
    "ax.legend(loc='lower right')\n",
    "ax.set_title('train frames')\n",
    "ax.set_xlim(0, 0.4)\n",
    "\n",
    "fig.tight_layout()"
   ]
  },
  {
   "cell_type": "code",
   "execution_count": null,
   "id": "d1249c8d-3f6d-44e6-a81d-340e9e9ce479",
   "metadata": {
    "tags": []
   },
   "outputs": [],
   "source": [
    "fig, ax = plt.subplots(1, 1, figsize=(4, 4), dpi=150)\n",
    "\n",
    "ax.grid(lw=.33)\n",
    "\n",
    "ax.plot([0, 1], [0, 1], transform=ax.transAxes, c='k', ls='dashed')\n",
    "\n",
    "errstr = ''\n",
    "\n",
    "for i, mol in enumerate('ethene butadiene esatriene'.split()):\n",
    "    \n",
    "    homo = sum(train_datasets[mol][0].mo_occ == 2) - 1\n",
    "    x = (pred_test[mol].mo_energy[:, homo+1] - pred_test[mol].mo_energy[:, homo]).detach().numpy().copy() * Hartree\n",
    "    y = (test_datasets[mol][1].mo_energy[:, homo+1] - test_datasets[mol][1].mo_energy[:, homo]).detach().numpy().copy() * Hartree\n",
    "    ax.scatter(x, y, label=mol.capitalize(), ec='k', lw=.5)\n",
    "    mse = np.mean(y - x) * 1e3 # meV\n",
    "    errstr += f'MSE({mol}) = {mse:.1f} (meV)\\n'\n",
    "    \n",
    "ax.text(0.05, 0.95, errstr, transform=ax.transAxes, ha='left', va='top')\n",
    "    \n",
    "\n",
    "set_equalaxes(ax)\n",
    "ax.set_ylabel('Target (eV)')\n",
    "ax.set_xlabel('Predicted (eV)')\n",
    "ax.set_title('HOMO - LUMO gap (test frames)')\n",
    "ax.legend(loc='lower right')\n",
    "\n",
    "fig.tight_layout()"
   ]
  },
  {
   "cell_type": "code",
   "execution_count": null,
   "id": "39ddac0b-8ca0-4afd-8b7f-6af53f63b44b",
   "metadata": {},
   "outputs": [],
   "source": []
  },
  {
   "cell_type": "code",
   "execution_count": null,
   "id": "013a6658-07a0-45dc-be8a-ef00ac2ed4e7",
   "metadata": {},
   "outputs": [],
   "source": []
  },
  {
   "cell_type": "code",
   "execution_count": null,
   "id": "5aa06212-78fc-4403-bd47-7e265d674fbf",
   "metadata": {
    "tags": []
   },
   "outputs": [],
   "source": [
    "def compute_excitations_with_stda(scf_data, mo_energy, mo_coeff_orth):\n",
    "    with warnings.catch_warnings():\n",
    "        warnings.simplefilter(\"ignore\")\n",
    "\n",
    "        excen = [\n",
    "            sTDA(\n",
    "                mo_energy=_mo_energy,\n",
    "                mo_coeff=_mo_coeff_orth,\n",
    "                mo_occ=scf_data.mo_occ,\n",
    "                ovlp=None,\n",
    "                natm=scf_data.natm,\n",
    "                ao_labels=scf_data.ao_labels,\n",
    "                coords=torch.from_numpy(_frame.positions),\n",
    "                atom_pure_symbols=scf_data.atom_pure_symbols,\n",
    "                ax=0.2,\n",
    "                alpha=None,\n",
    "                beta=None,\n",
    "                e_max=20.0,\n",
    "                tp=1e-4,\n",
    "                mo_orth=True,\n",
    "                verbose=False,\n",
    "                logfile=None,\n",
    "            ) #.kernel()\n",
    "            for _mo_energy, _mo_coeff_orth, _frame\n",
    "            in tqdm(zip(\n",
    "                mo_energy,\n",
    "                mo_coeff_orth,\n",
    "                scf_data.frames,\n",
    "            ))\n",
    "        ]\n",
    "    \n",
    "    return excen"
   ]
  },
  {
   "cell_type": "code",
   "execution_count": null,
   "id": "9cd109c3-6505-4a13-9f16-7808652756e7",
   "metadata": {
    "tags": []
   },
   "outputs": [],
   "source": [
    "mol = 'butadiene'\n",
    "\n",
    "data_sb, data_bb = train_datasets[mol]\n",
    "stda_target = compute_excitations_with_stda(data_bb, data_bb.mo_energy, data_bb.mo_coeff_orth)\n",
    "stda_predicted = compute_excitations_with_stda(data_sb, pred_train[mol].mo_energy, pred_train[mol].mo_coeff_orth)"
   ]
  },
  {
   "cell_type": "code",
   "execution_count": null,
   "id": "bd109268-1c94-4601-a99f-0453f88068e6",
   "metadata": {
    "tags": []
   },
   "outputs": [],
   "source": [
    "idx = 0\n",
    "\n",
    "print('Target')\n",
    "stda_target[idx].verbose = False\n",
    "stda_target[idx].kernel()\n",
    "stda_target[idx].verbose = True\n",
    "stda_target[idx].excens_and_amplitudes()\n",
    "\n",
    "print('Predicted')\n",
    "stda_predicted[idx].verbose = False\n",
    "stda_predicted[idx].kernel()\n",
    "stda_predicted[idx].verbose = True\n",
    "stda_predicted[idx].excens_and_amplitudes()"
   ]
  },
  {
   "cell_type": "code",
   "execution_count": null,
   "id": "3e0cfa78-1457-4590-ab0f-9b697d54f906",
   "metadata": {
    "tags": []
   },
   "outputs": [],
   "source": [
    "# save test basic prediction\n",
    "for mol in molecules:\n",
    "    tosave = {k: v.detach().numpy().copy() for k, v in pred_test[mol]._asdict().items()}\n",
    "    tosave['true_mo_energy'] = te_datasets[mol].mo_energy\n",
    "    tosave['true_lowdin_charges'] = te_datasets[mol].lowdin_charges\n",
    "    tosave['true_lowdin_charges_bymo'] = te_datasets[mol].lowdin_charges_bymo\n",
    "    tosave['stda_excens'] = excens[mol][0].detach().numpy().copy()\n",
    "    tosave['true_stda_excens'] = excens[mol][1].detach().numpy().copy()\n",
    "    np.savez(f'/home/e.cignoni/HamiltonianLearningEPFL/Paper/data/n00_{mol}_pred.npz', **tosave)"
   ]
  },
  {
   "cell_type": "code",
   "execution_count": null,
   "id": "a5dd11ef-a89d-4b46-8295-5b2ae76dfb9f",
   "metadata": {},
   "outputs": [],
   "source": []
  },
  {
   "cell_type": "code",
   "execution_count": null,
   "id": "8ab36495-48e4-4ce9-b431-6df7a5ff1989",
   "metadata": {},
   "outputs": [],
   "source": []
  }
 ],
 "metadata": {
  "kernelspec": {
   "display_name": "Python 3 (ipykernel)",
   "language": "python",
   "name": "python3"
  },
  "language_info": {
   "codemirror_mode": {
    "name": "ipython",
    "version": 3
   },
   "file_extension": ".py",
   "mimetype": "text/x-python",
   "name": "python",
   "nbconvert_exporter": "python",
   "pygments_lexer": "ipython3",
   "version": "3.9.13"
  }
 },
 "nbformat": 4,
 "nbformat_minor": 5
}
